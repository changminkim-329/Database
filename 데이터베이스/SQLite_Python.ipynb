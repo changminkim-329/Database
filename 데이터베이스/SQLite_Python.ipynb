{
 "cells": [
  {
   "cell_type": "markdown",
   "metadata": {},
   "source": [
    "파이썬 데이터베이스 연동(SQLite)"
   ]
  },
  {
   "cell_type": "code",
   "execution_count": 1,
   "metadata": {},
   "outputs": [],
   "source": [
    "import sqlite3 as sql\n",
    "import datetime"
   ]
  },
  {
   "cell_type": "code",
   "execution_count": 2,
   "metadata": {},
   "outputs": [
    {
     "name": "stdout",
     "output_type": "stream",
     "text": [
      "sqlite3 version: 2.6.0\n",
      "sqlite3.sqlite_version: 3.29.0\n"
     ]
    }
   ],
   "source": [
    "print('sqlite3 version:',sql.version)\n",
    "print('sqlite3.sqlite_version:',sql.sqlite_version)"
   ]
  },
  {
   "cell_type": "code",
   "execution_count": 3,
   "metadata": {},
   "outputs": [],
   "source": [
    "now = datetime.datetime.now()"
   ]
  },
  {
   "cell_type": "code",
   "execution_count": 4,
   "metadata": {},
   "outputs": [
    {
     "name": "stdout",
     "output_type": "stream",
     "text": [
      "2020-04-09 10:33:34.232094\n"
     ]
    }
   ],
   "source": [
    "print(now)"
   ]
  },
  {
   "cell_type": "code",
   "execution_count": 5,
   "metadata": {},
   "outputs": [],
   "source": [
    "nowDatetime = now.strftime('%Y-%m-%d %H:%M:%S')"
   ]
  },
  {
   "cell_type": "code",
   "execution_count": 6,
   "metadata": {},
   "outputs": [
    {
     "name": "stdout",
     "output_type": "stream",
     "text": [
      "2020-04-09 10:33:34\n"
     ]
    }
   ],
   "source": [
    "print(nowDatetime)"
   ]
  },
  {
   "cell_type": "markdown",
   "metadata": {},
   "source": [
    "데이터베이스 브라우저\n",
    "- 데이터베이스에 저장된 데이터를 효과적으로 보여주는 프로그램"
   ]
  },
  {
   "cell_type": "markdown",
   "metadata": {},
   "source": [
    "### Transaction\n",
    "- 논리적인 일의 단위. \n",
    "- 하나의 묶음 처리가 되는 것.\n",
    "- 양측이 다 원하는 결과물을 얻어야만 정상적으로 처리되는 것.\n",
    "\n",
    "### Commit\n",
    "- DML언어를 사용할 때는 항상 COMMIT도 함께 해줘야 한다.\n",
    "- DML언어로 작업한 모든 것을 정상적으로 처리하겠다고 확정하는 명령어\n",
    "- 트랜젝션의 처리 과정을 데이터베이스에 반영하기 위해서, 변경된 내용을 모두 영구 저장한다.\n",
    "- COMMIT 수행하면, 하나의 트랜젝션 과정을 종료하게 된다.\n",
    "- TRANSACTION(INSERT, UPDATE, DELETE)작업 내용을 실제 DB에 저장한다.\n",
    "- **Auto Commit** 자동으로 commit을 해주는 설정.\n",
    "\n",
    "### RollBack\n",
    "- 작업 중 문제가 발생했을 때, 트랜젝션의 처리 과정에서 발생한 변경 사항을 취소하고, 트랜젝션 과정을 종료시키는 것.\n",
    "- 트랜젝션 이전의 상태로 되돌린다.\n",
    "- Rollback : 다시 되돌리는 능력."
   ]
  },
  {
   "cell_type": "markdown",
   "metadata": {},
   "source": [
    "DB 파일 조회 (없으면 생성)"
   ]
  },
  {
   "cell_type": "code",
   "execution_count": 7,
   "metadata": {},
   "outputs": [],
   "source": [
    "conn = sql.connect('/Users/changmin.kim/Desktop/jupyterNotebook/데이터베이스/db_resourse/database.db',isolation_level=None)"
   ]
  },
  {
   "cell_type": "markdown",
   "metadata": {},
   "source": [
    "isolation_level = None : Auto Commit 설정\n",
    "- 설정 안하면 마지막에 commit()를 실행 해주어야 한다."
   ]
  },
  {
   "cell_type": "markdown",
   "metadata": {},
   "source": [
    "# Cuser"
   ]
  },
  {
   "cell_type": "code",
   "execution_count": 8,
   "metadata": {},
   "outputs": [],
   "source": [
    "c = conn.cursor()"
   ]
  },
  {
   "cell_type": "code",
   "execution_count": 9,
   "metadata": {},
   "outputs": [
    {
     "name": "stdout",
     "output_type": "stream",
     "text": [
      "cursor type: <class 'sqlite3.Cursor'>\n"
     ]
    }
   ],
   "source": [
    "print('cursor type:',type(c))"
   ]
  },
  {
   "cell_type": "code",
   "execution_count": 10,
   "metadata": {},
   "outputs": [
    {
     "data": {
      "text/plain": [
       "'2020-04-09 10:33:34'"
      ]
     },
     "execution_count": 10,
     "metadata": {},
     "output_type": "execute_result"
    }
   ],
   "source": [
    "nowDatetime"
   ]
  },
  {
   "cell_type": "markdown",
   "metadata": {},
   "source": [
    "# 테이블 생성\n",
    "- data type: TEXT, NUMERIC, INTEGER, REAL, BLOB"
   ]
  },
  {
   "cell_type": "code",
   "execution_count": 63,
   "metadata": {
    "scrolled": true
   },
   "outputs": [
    {
     "data": {
      "text/plain": [
       "<sqlite3.Cursor at 0x10bf16dc0>"
      ]
     },
     "execution_count": 63,
     "metadata": {},
     "output_type": "execute_result"
    }
   ],
   "source": [
    "c.execute(\"CREATE Table IF NOT EXISTS users(id INTEGER PRIMARY KEY, username text, email text, phone text, website text, regdate text) \")"
   ]
  },
  {
   "cell_type": "code",
   "execution_count": 23,
   "metadata": {},
   "outputs": [
    {
     "name": "stdout",
     "output_type": "stream",
     "text": [
      "? 7\n"
     ]
    }
   ],
   "source": [
    "print(\"?\",(7))"
   ]
  },
  {
   "cell_type": "code",
   "execution_count": 27,
   "metadata": {},
   "outputs": [
    {
     "data": {
      "text/plain": [
       "<sqlite3.Cursor at 0x10bf16dc0>"
      ]
     },
     "execution_count": 27,
     "metadata": {},
     "output_type": "execute_result"
    }
   ],
   "source": [
    "c.execute(\"INSERT INTO users VALUES(1, 'changmin.kim', 'ckd29672@naver.com','010-2503-2160','naver.com',?)\",(nowDatetime,))"
   ]
  },
  {
   "cell_type": "code",
   "execution_count": 32,
   "metadata": {},
   "outputs": [
    {
     "ename": "IntegrityError",
     "evalue": "UNIQUE constraint failed: users.id",
     "output_type": "error",
     "traceback": [
      "\u001b[0;31m---------------------------------------------------------------------------\u001b[0m",
      "\u001b[0;31mIntegrityError\u001b[0m                            Traceback (most recent call last)",
      "\u001b[0;32m<ipython-input-32-d855e32f1c83>\u001b[0m in \u001b[0;36m<module>\u001b[0;34m\u001b[0m\n\u001b[0;32m----> 1\u001b[0;31m \u001b[0mc\u001b[0m\u001b[0;34m.\u001b[0m\u001b[0mexecute\u001b[0m\u001b[0;34m(\u001b[0m\u001b[0;34m\"INSERT INTO users(id, username, phone, email, regdate, website) VALUES(?,?,?,?,?,?)\"\u001b[0m\u001b[0;34m,\u001b[0m\u001b[0;34m(\u001b[0m\u001b[0;36m2\u001b[0m\u001b[0;34m,\u001b[0m\u001b[0;34m\"박시영\"\u001b[0m\u001b[0;34m,\u001b[0m\u001b[0;34m\"010-4567-2934\"\u001b[0m\u001b[0;34m,\u001b[0m\u001b[0;34m\"park234@naver.com\"\u001b[0m\u001b[0;34m,\u001b[0m\u001b[0mnowDatetime\u001b[0m\u001b[0;34m,\u001b[0m\u001b[0;34m\"naver.com\"\u001b[0m\u001b[0;34m)\u001b[0m\u001b[0;34m)\u001b[0m\u001b[0;34m\u001b[0m\u001b[0;34m\u001b[0m\u001b[0m\n\u001b[0m",
      "\u001b[0;31mIntegrityError\u001b[0m: UNIQUE constraint failed: users.id"
     ]
    }
   ],
   "source": [
    "c.execute(\"INSERT INTO users(id, username, phone, email, regdate, website) VALUES(?,?,?,?,?,?)\",(2,\"박시영\",\"010-4567-2934\",\"park234@naver.com\",nowDatetime,\"naver.com\"))"
   ]
  },
  {
   "cell_type": "code",
   "execution_count": 33,
   "metadata": {},
   "outputs": [
    {
     "data": {
      "text/plain": [
       "'2020-04-08 17:12:07'"
      ]
     },
     "execution_count": 33,
     "metadata": {},
     "output_type": "execute_result"
    }
   ],
   "source": [
    "nowDatetime"
   ]
  },
  {
   "cell_type": "code",
   "execution_count": 85,
   "metadata": {},
   "outputs": [],
   "source": [
    "usersList = (\n",
    "    (3,'이진우','jinwoo1234@daum.net','010-2354-2893','Daum.net',nowDatetime),\n",
    "    (4,'최영준','youngjun@1234@gmail.com','010-2945-2394','Gmail.net',nowDatetime),\n",
    "    (5, '아이유','iu1234@naver.com','010-2395-3940','Naver.com',nowDatetime),\n",
    ")"
   ]
  },
  {
   "cell_type": "code",
   "execution_count": 49,
   "metadata": {},
   "outputs": [],
   "source": [
    "for i in range(3):\n",
    "    c.execute(\"INSERT INTO users(id, username, email, phone, website, regdate) VALUES(?,?,?,?,?,?)\",usersList[i])"
   ]
  },
  {
   "cell_type": "markdown",
   "metadata": {},
   "source": [
    "또는"
   ]
  },
  {
   "cell_type": "code",
   "execution_count": 86,
   "metadata": {},
   "outputs": [
    {
     "data": {
      "text/plain": [
       "<sqlite3.Cursor at 0x10bf16dc0>"
      ]
     },
     "execution_count": 86,
     "metadata": {},
     "output_type": "execute_result"
    }
   ],
   "source": [
    "c.executemany(\"INSERT INTO users(id, username, email, phone, website, regdate)VALUES(?,?,?,?,?,?)\",usersList)"
   ]
  },
  {
   "cell_type": "code",
   "execution_count": 60,
   "metadata": {
    "scrolled": true
   },
   "outputs": [
    {
     "name": "stdout",
     "output_type": "stream",
     "text": [
      "users db deleted 1\n"
     ]
    }
   ],
   "source": [
    "print(\"users db deleted\",c.execute(\"DELETE FROM users WHERE id>2\").rowcount)"
   ]
  },
  {
   "cell_type": "markdown",
   "metadata": {},
   "source": [
    "#### Rollback"
   ]
  },
  {
   "cell_type": "code",
   "execution_count": 62,
   "metadata": {},
   "outputs": [],
   "source": [
    "conn.rollback()"
   ]
  },
  {
   "cell_type": "markdown",
   "metadata": {},
   "source": [
    "테이블 조회(전체)"
   ]
  },
  {
   "cell_type": "code",
   "execution_count": 93,
   "metadata": {},
   "outputs": [
    {
     "data": {
      "text/plain": [
       "<sqlite3.Cursor at 0x10bf16dc0>"
      ]
     },
     "execution_count": 93,
     "metadata": {},
     "output_type": "execute_result"
    }
   ],
   "source": [
    "c.execute(\"SELECT * FROM users\")"
   ]
  },
  {
   "cell_type": "markdown",
   "metadata": {},
   "source": [
    "커서 위치가 변경 <br>\n",
    "1개 로우 선택"
   ]
  },
  {
   "cell_type": "code",
   "execution_count": 89,
   "metadata": {},
   "outputs": [
    {
     "name": "stdout",
     "output_type": "stream",
     "text": [
      "one->\n",
      " [(1, 'changmin.kim', 'ckd29672@naver.com', '010-2503-2160', 'naver.com', '2020-04-08 17:12:07')]\n"
     ]
    }
   ],
   "source": [
    "print(\"one->\\n\",c.fetchmany())"
   ]
  },
  {
   "cell_type": "code",
   "execution_count": 90,
   "metadata": {},
   "outputs": [
    {
     "name": "stdout",
     "output_type": "stream",
     "text": [
      "third->\n",
      " [(2, '박시영', 'park234@naver.com', '010-4567-2934', 'naver.com', '2020-04-08 17:12:07'), (3, '이진우', 'jinwoo1234@daum.net', '010-2354-2893', 'Daum.net', '2020-04-08 18:05:33'), (4, '최영준', 'youngjun@1234@gmail.com', '010-2945-2394', 'Gmail.net', '2020-04-08 18:05:33')]\n"
     ]
    }
   ],
   "source": [
    "print(\"third->\\n\",c.fetchmany(size=3))"
   ]
  },
  {
   "cell_type": "code",
   "execution_count": 91,
   "metadata": {},
   "outputs": [
    {
     "name": "stdout",
     "output_type": "stream",
     "text": [
      "All ->\n",
      " [(5, '아이유', 'iu1234@naver.com', '010-2395-3940', 'Naver.com', '2020-04-08 18:05:33')]\n"
     ]
    }
   ],
   "source": [
    "print(\"All ->\\n\",c.fetchall())"
   ]
  },
  {
   "cell_type": "code",
   "execution_count": 92,
   "metadata": {},
   "outputs": [
    {
     "name": "stdout",
     "output_type": "stream",
     "text": [
      "none->\n",
      " None\n"
     ]
    }
   ],
   "source": [
    "print(\"none->\\n\",c.fetchone())"
   ]
  },
  {
   "cell_type": "markdown",
   "metadata": {},
   "source": [
    "#### 순회 방법"
   ]
  },
  {
   "cell_type": "code",
   "execution_count": null,
   "metadata": {},
   "outputs": [],
   "source": []
  },
  {
   "cell_type": "code",
   "execution_count": null,
   "metadata": {},
   "outputs": [],
   "source": [
    "rows = c.fetchall()"
   ]
  },
  {
   "cell_type": "code",
   "execution_count": 97,
   "metadata": {},
   "outputs": [
    {
     "name": "stdout",
     "output_type": "stream",
     "text": [
      "(1, 'changmin.kim', 'ckd29672@naver.com', '010-2503-2160', 'naver.com', '2020-04-08 17:12:07')\n",
      "(2, '박시영', 'park234@naver.com', '010-4567-2934', 'naver.com', '2020-04-08 17:12:07')\n",
      "(3, '이진우', 'jinwoo1234@daum.net', '010-2354-2893', 'Daum.net', '2020-04-08 18:05:33')\n",
      "(4, '최영준', 'youngjun@1234@gmail.com', '010-2945-2394', 'Gmail.net', '2020-04-08 18:05:33')\n",
      "(5, '아이유', 'iu1234@naver.com', '010-2395-3940', 'Naver.com', '2020-04-08 18:05:33')\n"
     ]
    }
   ],
   "source": [
    "for row in rows:\n",
    "    print(row)"
   ]
  },
  {
   "cell_type": "code",
   "execution_count": 138,
   "metadata": {},
   "outputs": [
    {
     "data": {
      "text/plain": [
       "(3,)"
      ]
     },
     "execution_count": 138,
     "metadata": {},
     "output_type": "execute_result"
    }
   ],
   "source": [
    "param1"
   ]
  },
  {
   "cell_type": "code",
   "execution_count": 127,
   "metadata": {
    "scrolled": true
   },
   "outputs": [
    {
     "data": {
      "text/plain": [
       "'SELECT * FROM users WHERE id=\"3\"'"
      ]
     },
     "execution_count": 127,
     "metadata": {},
     "output_type": "execute_result"
    }
   ],
   "source": [
    "'SELECT * FROM users WHERE id=\"%s\"'%param1"
   ]
  },
  {
   "cell_type": "code",
   "execution_count": 132,
   "metadata": {},
   "outputs": [
    {
     "data": {
      "text/plain": [
       "'SELECT * FROM users WHERE id=\"(3,)\"'"
      ]
     },
     "execution_count": 132,
     "metadata": {},
     "output_type": "execute_result"
    }
   ],
   "source": [
    "'SELECT * FROM users WHERE id=\"{}\"'.format(param1)"
   ]
  },
  {
   "cell_type": "code",
   "execution_count": 143,
   "metadata": {},
   "outputs": [
    {
     "data": {
      "text/plain": [
       "<sqlite3.Cursor at 0x10bf16dc0>"
      ]
     },
     "execution_count": 143,
     "metadata": {},
     "output_type": "execute_result"
    }
   ],
   "source": [
    "c.execute('SELECT * FROM users WHERE id={}'.format(3))"
   ]
  },
  {
   "cell_type": "code",
   "execution_count": 145,
   "metadata": {},
   "outputs": [
    {
     "name": "stdout",
     "output_type": "stream",
     "text": [
      "None\n"
     ]
    }
   ],
   "source": [
    "print(c.fetchone())"
   ]
  },
  {
   "cell_type": "code",
   "execution_count": 146,
   "metadata": {},
   "outputs": [
    {
     "data": {
      "text/plain": [
       "<sqlite3.Cursor at 0x10bf16dc0>"
      ]
     },
     "execution_count": 146,
     "metadata": {},
     "output_type": "execute_result"
    }
   ],
   "source": [
    "param = (3,5)\n",
    "c.execute('SELECT * FROM users WHERE id IN(?,?)',param)"
   ]
  },
  {
   "cell_type": "code",
   "execution_count": 147,
   "metadata": {},
   "outputs": [
    {
     "data": {
      "text/plain": [
       "[(3,\n",
       "  '이진우',\n",
       "  'jinwoo1234@daum.net',\n",
       "  '010-2354-2893',\n",
       "  'Daum.net',\n",
       "  '2020-04-08 18:05:33'),\n",
       " (5,\n",
       "  '아이유',\n",
       "  'iu1234@naver.com',\n",
       "  '010-2395-3940',\n",
       "  'Naver.com',\n",
       "  '2020-04-08 18:05:33')]"
      ]
     },
     "execution_count": 147,
     "metadata": {},
     "output_type": "execute_result"
    }
   ],
   "source": [
    "c.fetchall()"
   ]
  },
  {
   "cell_type": "code",
   "execution_count": 148,
   "metadata": {},
   "outputs": [
    {
     "data": {
      "text/plain": [
       "<sqlite3.Cursor at 0x10bf16dc0>"
      ]
     },
     "execution_count": 148,
     "metadata": {},
     "output_type": "execute_result"
    }
   ],
   "source": [
    "c.execute('SELECT * FROM users WHERE id IN({},{})'.format(3,5))"
   ]
  },
  {
   "cell_type": "code",
   "execution_count": 149,
   "metadata": {},
   "outputs": [
    {
     "data": {
      "text/plain": [
       "[(3,\n",
       "  '이진우',\n",
       "  'jinwoo1234@daum.net',\n",
       "  '010-2354-2893',\n",
       "  'Daum.net',\n",
       "  '2020-04-08 18:05:33'),\n",
       " (5,\n",
       "  '아이유',\n",
       "  'iu1234@naver.com',\n",
       "  '010-2395-3940',\n",
       "  'Naver.com',\n",
       "  '2020-04-08 18:05:33')]"
      ]
     },
     "execution_count": 149,
     "metadata": {},
     "output_type": "execute_result"
    }
   ],
   "source": [
    "c.fetchall()"
   ]
  },
  {
   "cell_type": "code",
   "execution_count": 156,
   "metadata": {},
   "outputs": [
    {
     "data": {
      "text/plain": [
       "<sqlite3.Cursor at 0x10bf16dc0>"
      ]
     },
     "execution_count": 156,
     "metadata": {},
     "output_type": "execute_result"
    }
   ],
   "source": [
    "c.execute('SELECT * FROM users WHERE id= :id1 OR id= :id6',{\"id1\":1,\"id6\":5})"
   ]
  },
  {
   "cell_type": "code",
   "execution_count": 157,
   "metadata": {},
   "outputs": [
    {
     "data": {
      "text/plain": [
       "[(1,\n",
       "  'changmin.kim',\n",
       "  'ckd29672@naver.com',\n",
       "  '010-2503-2160',\n",
       "  'naver.com',\n",
       "  '2020-04-08 17:12:07'),\n",
       " (5,\n",
       "  '아이유',\n",
       "  'iu1234@naver.com',\n",
       "  '010-2395-3940',\n",
       "  'Naver.com',\n",
       "  '2020-04-08 18:05:33')]"
      ]
     },
     "execution_count": 157,
     "metadata": {},
     "output_type": "execute_result"
    }
   ],
   "source": [
    "c.fetchall()"
   ]
  },
  {
   "cell_type": "markdown",
   "metadata": {},
   "source": [
    "Dump\n",
    "- 대상 데이터를 insert query로 바꿔서 저장하는 방법 "
   ]
  },
  {
   "cell_type": "code",
   "execution_count": 158,
   "metadata": {},
   "outputs": [],
   "source": [
    "g= conn.iterdump()"
   ]
  },
  {
   "cell_type": "code",
   "execution_count": 160,
   "metadata": {},
   "outputs": [
    {
     "name": "stdout",
     "output_type": "stream",
     "text": [
      "BEGIN TRANSACTION;\n",
      "CREATE TABLE users(id INTEGER PRIMARY KEY, username text, email text, phone text, website text, regdate text);\n",
      "INSERT INTO \"users\" VALUES(1,'changmin.kim','ckd29672@naver.com','010-2503-2160','naver.com','2020-04-08 17:12:07');\n",
      "INSERT INTO \"users\" VALUES(2,'박시영','park234@naver.com','010-4567-2934','naver.com','2020-04-08 17:12:07');\n",
      "INSERT INTO \"users\" VALUES(3,'이진우','jinwoo1234@daum.net','010-2354-2893','Daum.net','2020-04-08 18:05:33');\n",
      "INSERT INTO \"users\" VALUES(4,'최영준','youngjun@1234@gmail.com','010-2945-2394','Gmail.net','2020-04-08 18:05:33');\n",
      "INSERT INTO \"users\" VALUES(5,'아이유','iu1234@naver.com','010-2395-3940','Naver.com','2020-04-08 18:05:33');\n",
      "COMMIT;\n"
     ]
    }
   ],
   "source": [
    "for line in conn.iterdump():\n",
    "    print(line)"
   ]
  },
  {
   "cell_type": "code",
   "execution_count": 162,
   "metadata": {},
   "outputs": [],
   "source": [
    "with conn:\n",
    "    with open('/Users/changmin.kim/Desktop/jupyterNotebook/데이터베이스/db_resourse/dump.sql','w') as f:\n",
    "        for line in conn.iterdump():\n",
    "            f.write('{}\\n'.format(line))"
   ]
  },
  {
   "cell_type": "markdown",
   "metadata": {},
   "source": [
    "## 수정"
   ]
  },
  {
   "cell_type": "code",
   "execution_count": 14,
   "metadata": {},
   "outputs": [
    {
     "data": {
      "text/plain": [
       "<sqlite3.Cursor at 0x10b4aac70>"
      ]
     },
     "execution_count": 14,
     "metadata": {},
     "output_type": "execute_result"
    }
   ],
   "source": [
    "c.execute(\"UPDATE users SET username = ? WHERE id = ?\",('niceman',2))"
   ]
  },
  {
   "cell_type": "code",
   "execution_count": 15,
   "metadata": {},
   "outputs": [
    {
     "data": {
      "text/plain": [
       "<sqlite3.Cursor at 0x10b4aac70>"
      ]
     },
     "execution_count": 15,
     "metadata": {},
     "output_type": "execute_result"
    }
   ],
   "source": [
    "c.execute(\"UPDATE users SET username = :name WHERE id = :id\",{'name':'kingsman','id':4})"
   ]
  },
  {
   "cell_type": "markdown",
   "metadata": {},
   "source": [
    "## 삭제"
   ]
  },
  {
   "cell_type": "code",
   "execution_count": 17,
   "metadata": {},
   "outputs": [
    {
     "data": {
      "text/plain": [
       "<sqlite3.Cursor at 0x10b4aac70>"
      ]
     },
     "execution_count": 17,
     "metadata": {},
     "output_type": "execute_result"
    }
   ],
   "source": [
    "c.execute(\"DELETE FROM users WHERE id=?\",(2,))"
   ]
  },
  {
   "cell_type": "code",
   "execution_count": 18,
   "metadata": {},
   "outputs": [],
   "source": [
    "conn.close()"
   ]
  },
  {
   "cell_type": "code",
   "execution_count": null,
   "metadata": {},
   "outputs": [],
   "source": []
  }
 ],
 "metadata": {
  "kernelspec": {
   "display_name": "Python 3",
   "language": "python",
   "name": "python3"
  }
 },
 "nbformat": 4,
 "nbformat_minor": 2
}
